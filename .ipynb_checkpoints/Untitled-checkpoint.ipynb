{
 "cells": [
  {
   "cell_type": "code",
   "execution_count": null,
   "metadata": {},
   "outputs": [],
   "source": [
    "import itertools\n",
    "# using numpy.prod() to get the multiplications  \n",
    "# result1 = numpy.prod(list1) \n",
    "# result2 = numpy.prod(list2) \n",
    "# print(result1) \n",
    "# print(result2) \n",
    "A=[0.1,1,10]\n",
    "\n",
    "# B = A[1:]\n",
    "# print([x for x in itertools.permutations('A')])\n",
    "\n",
    "\n",
    "\n",
    "\n",
    "for L in range(0, len(stuff)+1):\n",
    "    for subset in itertools.combinations(stuff, L):\n",
    "        print(subset)\n",
    "\n",
    "# # C = [] #Create an empty list\n",
    "# # for i in A: #iter each element in A\n",
    "# #     for j in B: #iter each element in B\n",
    "#         mult = i * (i+j)\n",
    "#         C.append(mult) #Append the result in the list C\n",
    "\n",
    "# Operation with a random item in A with each item in B:\n",
    "\n",
    "# import numpy as np\n",
    "\n",
    "# A=[1,3,5,7,9]\n",
    "# B=[2,4,6,8]\n",
    "\n",
    "# C = [] #Create an empty list\n",
    "# for i in A: #iter each element in A\n",
    "#     i = np.random.randint(len(A)) #Chose a random number from A\n",
    "#     for j in B: #iter each element in B\n",
    "#         mult = A[i] * j #Multiply a random number from A with each element in B\n",
    "#         C.append(mult) #Append the result in the list C\n",
    "C"
   ]
  },
  {
   "cell_type": "code",
   "execution_count": null,
   "metadata": {},
   "outputs": [],
   "source": []
  },
  {
   "cell_type": "code",
   "execution_count": 14,
   "metadata": {},
   "outputs": [
    {
     "data": {
      "text/plain": [
       "6"
      ]
     },
     "execution_count": 14,
     "metadata": {},
     "output_type": "execute_result"
    }
   ],
   "source": [
    "lenA\n"
   ]
  },
  {
   "cell_type": "code",
   "execution_count": null,
   "metadata": {},
   "outputs": [],
   "source": []
  },
  {
   "cell_type": "code",
   "execution_count": null,
   "metadata": {},
   "outputs": [],
   "source": []
  }
 ],
 "metadata": {
  "kernelspec": {
   "display_name": "Python 3",
   "language": "python",
   "name": "python3"
  },
  "language_info": {
   "codemirror_mode": {
    "name": "ipython",
    "version": 3
   },
   "file_extension": ".py",
   "mimetype": "text/x-python",
   "name": "python",
   "nbconvert_exporter": "python",
   "pygments_lexer": "ipython3",
   "version": "3.6.6"
  }
 },
 "nbformat": 4,
 "nbformat_minor": 2
}
