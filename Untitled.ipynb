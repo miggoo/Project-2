{
 "cells": [
  {
   "cell_type": "code",
   "execution_count": 2,
   "metadata": {},
   "outputs": [
    {
     "data": {
      "text/plain": [
       "[(0.1, 1), (0.1, 10), (1, 10)]"
      ]
     },
     "execution_count": 2,
     "metadata": {},
     "output_type": "execute_result"
    }
   ],
   "source": [
    "import itertools\n",
    "import pandas as pd\n",
    "# using numpy.prod() to get the multiplications  \n",
    "# result1 = numpy.prod(list1) \n",
    "# result2 = numpy.prod(list2) \n",
    "# print(result1) \n",
    "# print(result2) \n",
    "A=[0.1,1,10]\n",
    "\n",
    "# B = A[1:]\n",
    "# print([x for x in itertools.permutations('A')])\n",
    "\n",
    "# for i in A:\n",
    "#     j = (i+1)\n",
    "#     print(i, \n",
    "\n",
    "\n",
    "# i = len((A)+1)\n",
    "# for subset in itertools.combinations(A, i):\n",
    "#         print(f'{A},{i})\n",
    "\n",
    "\n",
    "# # subset_df =  pd.DataFrame(list(subset))\n",
    "# subset_df\n",
    "# # C = [] #Create an empty list\n",
    "# # for i in A: #iter each element in A\n",
    "# #     for j in B: #iter each element in B\n",
    "#         mult = i * (i+j)\n",
    "#         C.append(mult) #Append the result in the list C\n",
    "\n",
    "# Operation with a random item in A with each item in B:\n",
    "\n",
    "# import numpy as np\n",
    "\n",
    "# A=[1,3,5,7,9]\n",
    "# B=[2,4,6,8]\n",
    "\n",
    "# C = [] #Create an empty list\n",
    "# for i in A: #iter each element in A\n",
    "#     i = np.random.randint(len(A)) #Chose a random number from A\n",
    "#     for j in B: #iter each element in B\n",
    "#         mult = A[i] * j #Multiply a random number from A with each element in B\n",
    "#         C.append(mult) #Append the result in the list C\n",
    "import itertools as it\n",
    "list(it.combinations(A, 2))"
   ]
  },
  {
   "cell_type": "code",
   "execution_count": 41,
   "metadata": {},
   "outputs": [
    {
     "ename": "SyntaxError",
     "evalue": "invalid syntax (<ipython-input-41-ece064aace61>, line 4)",
     "output_type": "error",
     "traceback": [
      "\u001b[1;36m  File \u001b[1;32m\"<ipython-input-41-ece064aace61>\"\u001b[1;36m, line \u001b[1;32m4\u001b[0m\n\u001b[1;33m    for i in range(0:len()):\u001b[0m\n\u001b[1;37m                    ^\u001b[0m\n\u001b[1;31mSyntaxError\u001b[0m\u001b[1;31m:\u001b[0m invalid syntax\n"
     ]
    }
   ],
   "source": [
    "# A=[0.1,1,10]\n",
    "\n",
    "# B = A[1:]\n",
    "# for i in range(0:len()):\n",
    "  \n",
    "#     print(A[i],B[i])\n",
    "# d = {frozenset([frozenset(x[:2]), frozenset(x[2:4]), x[-1]]) for x in itertools.permutations(l1, (len(l1/2)))}\n",
    "\n",
    "# d2 = [sorted(x,  key=lambda x: (not isinstance(x, frozenset)) for x in d]])\n",
    "\n",
    "# sorted([[tuple(x[0]), tuple(x[1]) for x in d2]])\n",
    " "
   ]
  },
  {
   "cell_type": "code",
   "execution_count": 33,
   "metadata": {},
   "outputs": [
    {
     "name": "stdout",
     "output_type": "stream",
     "text": [
      "<generator object all_pairs at 0x0000020498F12DB0>\n"
     ]
    }
   ],
   "source": [
    "print(all_pairs([A]))"
   ]
  },
  {
   "cell_type": "code",
   "execution_count": 26,
   "metadata": {},
   "outputs": [
    {
     "ename": "NameError",
     "evalue": "name 'lenA' is not defined",
     "output_type": "error",
     "traceback": [
      "\u001b[1;31m---------------------------------------------------------------------------\u001b[0m",
      "\u001b[1;31mNameError\u001b[0m                                 Traceback (most recent call last)",
      "\u001b[1;32m<ipython-input-26-1a87925c5deb>\u001b[0m in \u001b[0;36m<module>\u001b[1;34m()\u001b[0m\n\u001b[1;32m----> 1\u001b[1;33m \u001b[0mlenA\u001b[0m\u001b[1;33m\u001b[0m\u001b[0m\n\u001b[0m",
      "\u001b[1;31mNameError\u001b[0m: name 'lenA' is not defined"
     ]
    }
   ],
   "source": [
    "lenA\n"
   ]
  },
  {
   "cell_type": "code",
   "execution_count": null,
   "metadata": {},
   "outputs": [],
   "source": []
  },
  {
   "cell_type": "code",
   "execution_count": null,
   "metadata": {},
   "outputs": [],
   "source": []
  }
 ],
 "metadata": {
  "kernelspec": {
   "display_name": "Python 3",
   "language": "python",
   "name": "python3"
  },
  "language_info": {
   "codemirror_mode": {
    "name": "ipython",
    "version": 3
   },
   "file_extension": ".py",
   "mimetype": "text/x-python",
   "name": "python",
   "nbconvert_exporter": "python",
   "pygments_lexer": "ipython3",
   "version": "3.6.6"
  }
 },
 "nbformat": 4,
 "nbformat_minor": 2
}
