{
 "cells": [
  {
   "cell_type": "code",
   "execution_count": 20,
   "metadata": {},
   "outputs": [
    {
     "data": {
      "text/plain": [
       "[('1', '3'), ('1', '9'), ('3', '9')]"
      ]
     },
     "execution_count": 20,
     "metadata": {},
     "output_type": "execute_result"
    }
   ],
   "source": [
    "# #Find all possible combinations of variables in a list, output as tuples, control lenth of tuples\n",
    "\n",
    "import itertools as it\n",
    "A = [\"1\",'3','9']\n",
    "one = list(it.combinations([\"2\",'5','12'],2))#LISTOFITEMSTOBECOMBINED, AS VARIABLE NAME OR IN LIST FORM, items per tuple#\n",
    "two =list(it.combinations([\"2\",'5','12'],3))\n",
    "three = list(it.combinations(A,2))\n",
    "\n",
    "print(one,two,three)\n",
    "\n",
    "def rrobin(x,y):\n",
    "    import itertools as it\n",
    "    z = list(it.combinations(x,y))\n",
    "    return z\n",
    "rrobin(A,2)"
   ]
  },
  {
   "cell_type": "code",
   "execution_count": null,
   "metadata": {},
   "outputs": [],
   "source": []
  },
  {
   "cell_type": "code",
   "execution_count": null,
   "metadata": {},
   "outputs": [],
   "source": []
  }
 ],
 "metadata": {
  "kernelspec": {
   "display_name": "Python 3",
   "language": "python",
   "name": "python3"
  },
  "language_info": {
   "codemirror_mode": {
    "name": "ipython",
    "version": 3
   },
   "file_extension": ".py",
   "mimetype": "text/x-python",
   "name": "python",
   "nbconvert_exporter": "python",
   "pygments_lexer": "ipython3",
   "version": "3.6.6"
  }
 },
 "nbformat": 4,
 "nbformat_minor": 2
}
